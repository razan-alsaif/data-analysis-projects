{
 "cells": [
  {
   "cell_type": "markdown",
   "id": "5ba02f47",
   "metadata": {},
   "source": [
    "# 📊 Project: HR Employee Attrition Analysis\n",
    "\n",
    "**Objective:** Perform a complete HR analytics project to identify attrition patterns, key drivers, and provide insights for employee retention.  \n",
    "This project is designed for one person (Computer Science graduate) applying for a **Data Analyst** role in Tamheer.\n",
    "\n",
    "**Files:**  \n",
    "- `HR_Employee_Attrition.csv` → dataset  \n",
    "- `HR_Employee_Attrition_Analysis.ipynb` → analysis notebook\n"
   ]
  },
  {
   "cell_type": "markdown",
   "id": "b397eb7a",
   "metadata": {},
   "source": [
    "## ✅ What you will do in this notebook\n",
    "\n",
    "1. Load and explore the dataset.  \n",
    "2. Perform data cleaning and feature engineering.  \n",
    "3. Calculate descriptive statistics and KPIs (attrition rate, average income, average satisfaction, etc.).  \n",
    "4. Explore attrition by department, role, and overtime.  \n",
    "5. Visualize relationships (e.g., satisfaction vs attrition).  \n",
    "6. Build a simple **Logistic Regression model** to predict attrition.  \n",
    "7. Provide actionable **recommendations** to HR management.\n"
   ]
  },
  {
   "cell_type": "code",
   "execution_count": null,
   "id": "08d3c9be",
   "metadata": {},
   "outputs": [],
   "source": [
    "# === Setup ===\n",
    "import pandas as pd\n",
    "import numpy as np\n",
    "import matplotlib.pyplot as plt\n",
    "import seaborn as sns\n",
    "from sklearn.model_selection import train_test_split\n",
    "from sklearn.linear_model import LogisticRegression\n",
    "from sklearn.metrics import classification_report, confusion_matrix\n",
    "\n",
    "# Load data\n",
    "csv_path = r\"/mnt/data/HR_Employee_Attrition.csv\"\n",
    "df = pd.read_csv(csv_path)\n",
    "\n",
    "print(\"Shape:\", df.shape)\n",
    "df.head()\n"
   ]
  },
  {
   "cell_type": "markdown",
   "id": "bfa3921d",
   "metadata": {},
   "source": [
    "## 🧼 Data Cleaning & Feature Engineering\n",
    "\n",
    "- Check missing values and datatypes.  \n",
    "- Encode categorical variables.  \n",
    "- Create binary target column for attrition (1=Yes, 0=No).\n"
   ]
  },
  {
   "cell_type": "code",
   "execution_count": null,
   "id": "aa1874de",
   "metadata": {},
   "outputs": [],
   "source": [
    "print(df.isna().sum())\n",
    "print(df.dtypes)\n",
    "\n",
    "# Convert Attrition to categorical string\n",
    "df['Attrition'] = df['Attrition'].map({1:'Yes',0:'No'})\n",
    "\n",
    "# Encode categorical variables\n",
    "df_enc = pd.get_dummies(df, drop_first=True)\n",
    "\n",
    "df_enc.head()\n"
   ]
  },
  {
   "cell_type": "markdown",
   "id": "674be058",
   "metadata": {},
   "source": [
    "## 📈 Key HR Metrics (KPIs)\n",
    "\n",
    "- Overall attrition rate.  \n",
    "- Average monthly income.  \n",
    "- Average job satisfaction.  \n",
    "- Attrition by department and overtime.\n"
   ]
  },
  {
   "cell_type": "code",
   "execution_count": null,
   "id": "a87d4c7e",
   "metadata": {},
   "outputs": [],
   "source": [
    "# KPIs\n",
    "attrition_rate = (df['Attrition']=='Yes').mean()\n",
    "avg_income = df['MonthlyIncome'].mean()\n",
    "avg_satisfaction = df['JobSatisfaction'].mean()\n",
    "\n",
    "print(f\"Attrition Rate: {attrition_rate:.2%}\")\n",
    "print(f\"Average Monthly Income: {avg_income:,.0f}\")\n",
    "print(f\"Average Job Satisfaction: {avg_satisfaction:.2f}\")\n",
    "\n",
    "# Attrition by department\n",
    "dept_attrition = df.groupby('Department')['Attrition'].value_counts(normalize=True).unstack().fillna(0)\n",
    "\n",
    "dept_attrition.plot(kind='bar', stacked=True)\n",
    "plt.title(\"Attrition by Department\")\n",
    "plt.ylabel(\"Proportion\")\n",
    "plt.show()\n",
    "\n",
    "# Attrition by overtime\n",
    "ot_attrition = df.groupby('OverTime')['Attrition'].value_counts(normalize=True).unstack().fillna(0)\n",
    "ot_attrition.plot(kind='bar', stacked=True)\n",
    "plt.title(\"Attrition by OverTime\")\n",
    "plt.ylabel(\"Proportion\")\n",
    "plt.show()\n"
   ]
  },
  {
   "cell_type": "markdown",
   "id": "290cfa0b",
   "metadata": {},
   "source": [
    "## 🤖 Predicting Attrition with Logistic Regression\n",
    "\n",
    "We will train a simple Logistic Regression model using encoded features to predict attrition probability.\n"
   ]
  },
  {
   "cell_type": "code",
   "execution_count": null,
   "id": "625dfc5b",
   "metadata": {},
   "outputs": [],
   "source": [
    "X = df_enc.drop('Attrition_Yes', axis=1)\n",
    "y = df_enc['Attrition_Yes']\n",
    "\n",
    "X_train, X_test, y_train, y_test = train_test_split(X,y,test_size=0.2,random_state=42,stratify=y)\n",
    "\n",
    "model = LogisticRegression(max_iter=500)\n",
    "model.fit(X_train,y_train)\n",
    "\n",
    "y_pred = model.predict(X_test)\n",
    "\n",
    "print(\"Classification Report:\\n\", classification_report(y_test,y_pred))\n",
    "sns.heatmap(confusion_matrix(y_test,y_pred), annot=True, fmt='d', cmap='Blues')\n",
    "plt.title(\"Confusion Matrix\")\n",
    "plt.show()\n"
   ]
  },
  {
   "cell_type": "markdown",
   "id": "d8fc9375",
   "metadata": {},
   "source": [
    "## 🧠 Insights & Recommendations\n",
    "\n",
    "- High attrition is strongly associated with **OverTime = Yes** → Consider monitoring workload and overtime policies.  \n",
    "- Certain departments (e.g., Sales/IT) show higher attrition → Implement targeted engagement/retention programs.  \n",
    "- Employees with **lower job satisfaction** and **lower income** are more likely to leave → Suggest salary benchmarking and satisfaction surveys.  \n",
    "- Commute time may also play a role → Consider flexible/remote options.\n"
   ]
  },
  {
   "cell_type": "markdown",
   "id": "4be9f697",
   "metadata": {},
   "source": [
    "## 📂 Deliverables\n",
    "\n",
    "- `HR_Employee_Attrition.csv` → dataset file  \n",
    "- `HR_Employee_Attrition_Analysis.ipynb` → analysis notebook  \n",
    "- Suggested: Upload to GitHub with README and visualizations.\n"
   ]
  }
 ],
 "metadata": {
  "kernelspec": {
   "display_name": "Python 3 (ipykernel)",
   "language": "python",
   "name": "python3"
  },
  "language_info": {
   "codemirror_mode": {
    "name": "ipython",
    "version": 3
   },
   "file_extension": ".py",
   "mimetype": "text/x-python",
   "name": "python",
   "nbconvert_exporter": "python",
   "pygments_lexer": "ipython3",
   "version": "3.13.5"
  }
 },
 "nbformat": 4,
 "nbformat_minor": 5
}
