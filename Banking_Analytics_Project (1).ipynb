{
 "cells": [
  {
   "cell_type": "markdown",
   "id": "24655187",
   "metadata": {},
   "source": [
    "\n",
    "# Banking Analytics — Customer & Loan Data\n",
    "\n",
    "**Role Fit:** Data Analyst (Tamheer) · **Tools:** Python, pandas, matplotlib, scikit-learn  \n",
    "**Dataset:** Synthetic banking dataset (~1200 customers).\n",
    "\n",
    "## Objectives\n",
    "1. Explore dataset and key banking KPIs.\n",
    "2. Analyze loan distribution and defaults.\n",
    "3. Segment customers by account/loan type and income.\n",
    "4. Build simple classification model to predict default.\n"
   ]
  },
  {
   "cell_type": "code",
   "execution_count": 1,
   "id": "0bf07bf7",
   "metadata": {},
   "outputs": [],
   "source": [
    "\n",
    "import pandas as pd\n",
    "import numpy as np\n",
    "import matplotlib.pyplot as plt\n",
    "from sklearn.model_selection import train_test_split\n",
    "from sklearn.linear_model import LogisticRegression\n",
    "from sklearn.metrics import accuracy_score, classification_report\n",
    "\n",
    "pd.set_option('display.max_columns', 50)\n"
   ]
  },
  {
   "cell_type": "markdown",
   "id": "eb3c834a",
   "metadata": {},
   "source": [
    "## 1) Load dataset"
   ]
  },
  {
   "cell_type": "code",
   "execution_count": 2,
   "id": "5583fcdf",
   "metadata": {},
   "outputs": [
    {
     "data": {
      "text/html": [
       "<div>\n",
       "<style scoped>\n",
       "    .dataframe tbody tr th:only-of-type {\n",
       "        vertical-align: middle;\n",
       "    }\n",
       "\n",
       "    .dataframe tbody tr th {\n",
       "        vertical-align: top;\n",
       "    }\n",
       "\n",
       "    .dataframe thead th {\n",
       "        text-align: right;\n",
       "    }\n",
       "</style>\n",
       "<table border=\"1\" class=\"dataframe\">\n",
       "  <thead>\n",
       "    <tr style=\"text-align: right;\">\n",
       "      <th></th>\n",
       "      <th>CustomerID</th>\n",
       "      <th>Age</th>\n",
       "      <th>City</th>\n",
       "      <th>AccountType</th>\n",
       "      <th>Balance</th>\n",
       "      <th>LoanType</th>\n",
       "      <th>LoanAmount</th>\n",
       "      <th>LoanTermYears</th>\n",
       "      <th>AnnualIncome</th>\n",
       "      <th>Defaulted</th>\n",
       "    </tr>\n",
       "  </thead>\n",
       "  <tbody>\n",
       "    <tr>\n",
       "      <th>0</th>\n",
       "      <td>CUST-4000</td>\n",
       "      <td>27</td>\n",
       "      <td>Taif</td>\n",
       "      <td>Checking</td>\n",
       "      <td>42350</td>\n",
       "      <td>Mortgage</td>\n",
       "      <td>39961</td>\n",
       "      <td>21</td>\n",
       "      <td>26950</td>\n",
       "      <td>Yes</td>\n",
       "    </tr>\n",
       "    <tr>\n",
       "      <th>1</th>\n",
       "      <td>CUST-4001</td>\n",
       "      <td>69</td>\n",
       "      <td>Abha</td>\n",
       "      <td>Credit</td>\n",
       "      <td>6689</td>\n",
       "      <td>Mortgage</td>\n",
       "      <td>423491</td>\n",
       "      <td>9</td>\n",
       "      <td>243909</td>\n",
       "      <td>Yes</td>\n",
       "    </tr>\n",
       "    <tr>\n",
       "      <th>2</th>\n",
       "      <td>CUST-4002</td>\n",
       "      <td>47</td>\n",
       "      <td>Jeddah</td>\n",
       "      <td>Checking</td>\n",
       "      <td>12021</td>\n",
       "      <td>Auto</td>\n",
       "      <td>100386</td>\n",
       "      <td>5</td>\n",
       "      <td>65513</td>\n",
       "      <td>No</td>\n",
       "    </tr>\n",
       "    <tr>\n",
       "      <th>3</th>\n",
       "      <td>CUST-4003</td>\n",
       "      <td>29</td>\n",
       "      <td>Jeddah</td>\n",
       "      <td>Checking</td>\n",
       "      <td>37824</td>\n",
       "      <td>Personal</td>\n",
       "      <td>357930</td>\n",
       "      <td>3</td>\n",
       "      <td>99054</td>\n",
       "      <td>No</td>\n",
       "    </tr>\n",
       "    <tr>\n",
       "      <th>4</th>\n",
       "      <td>CUST-4004</td>\n",
       "      <td>42</td>\n",
       "      <td>Abha</td>\n",
       "      <td>Savings</td>\n",
       "      <td>27917</td>\n",
       "      <td>Business</td>\n",
       "      <td>210684</td>\n",
       "      <td>7</td>\n",
       "      <td>115059</td>\n",
       "      <td>No</td>\n",
       "    </tr>\n",
       "  </tbody>\n",
       "</table>\n",
       "</div>"
      ],
      "text/plain": [
       "  CustomerID  Age    City AccountType  Balance  LoanType  LoanAmount  \\\n",
       "0  CUST-4000   27    Taif    Checking    42350  Mortgage       39961   \n",
       "1  CUST-4001   69    Abha      Credit     6689  Mortgage      423491   \n",
       "2  CUST-4002   47  Jeddah    Checking    12021      Auto      100386   \n",
       "3  CUST-4003   29  Jeddah    Checking    37824  Personal      357930   \n",
       "4  CUST-4004   42    Abha     Savings    27917  Business      210684   \n",
       "\n",
       "   LoanTermYears  AnnualIncome Defaulted  \n",
       "0             21         26950       Yes  \n",
       "1              9        243909       Yes  \n",
       "2              5         65513        No  \n",
       "3              3         99054        No  \n",
       "4              7        115059        No  "
      ]
     },
     "execution_count": 2,
     "metadata": {},
     "output_type": "execute_result"
    }
   ],
   "source": [
    "\n",
    "df = pd.read_csv(\"banking_dataset.csv\")\n",
    "df.head()\n"
   ]
  },
  {
   "cell_type": "markdown",
   "id": "1f7dd1d0",
   "metadata": {},
   "source": [
    "## 2) KPIs"
   ]
  },
  {
   "cell_type": "code",
   "execution_count": 3,
   "id": "1fb8ea89",
   "metadata": {},
   "outputs": [
    {
     "name": "stdout",
     "output_type": "stream",
     "text": [
      "Average Balance (SAR): 49296.29\n",
      "Average Loan Amount (SAR): 253079.17\n",
      "Default Rate (%): 20.25\n"
     ]
    }
   ],
   "source": [
    "\n",
    "avg_balance = df['Balance'].mean().round(2)\n",
    "avg_loan = df['LoanAmount'].mean().round(2)\n",
    "default_rate = (df['Defaulted'].value_counts(normalize=True)['Yes']*100).round(2)\n",
    "\n",
    "print(\"Average Balance (SAR):\", avg_balance)\n",
    "print(\"Average Loan Amount (SAR):\", avg_loan)\n",
    "print(\"Default Rate (%):\", default_rate)\n"
   ]
  },
  {
   "cell_type": "markdown",
   "id": "8a2b2de5",
   "metadata": {},
   "source": [
    "## 3) Loan Distribution"
   ]
  },
  {
   "cell_type": "code",
   "execution_count": 4,
   "id": "675f2080",
   "metadata": {},
   "outputs": [
    {
     "data": {
      "text/plain": [
       "LoanType\n",
       "Business    340\n",
       "Auto        290\n",
       "Personal    290\n",
       "Mortgage    280\n",
       "Name: count, dtype: int64"
      ]
     },
     "execution_count": 4,
     "metadata": {},
     "output_type": "execute_result"
    }
   ],
   "source": [
    "\n",
    "loan_counts = df['LoanType'].value_counts()\n",
    "loan_counts\n"
   ]
  },
  {
   "cell_type": "code",
   "execution_count": 5,
   "id": "bdcee224",
   "metadata": {},
   "outputs": [
    {
     "data": {
      "image/png": "[encoded data removed]",
      "text/plain": [
       "<Figure size 640x480 with 1 Axes>"
      ]
     },
     "metadata": {},
     "output_type": "display_data"
    }
   ],
   "source": [
    "\n",
    "plt.figure()\n",
    "loan_counts.plot(kind='bar')\n",
    "plt.title(\"Loans by Type\")\n",
    "plt.ylabel(\"Count\")\n",
    "plt.tight_layout()\n",
    "plt.show()\n"
   ]
  },
  {
   "cell_type": "markdown",
   "id": "07d63e86",
   "metadata": {},
   "source": [
    "## 4) Default Rates by Loan Type"
   ]
  },
  {
   "cell_type": "code",
   "execution_count": 6,
   "id": "87218152",
   "metadata": {},
   "outputs": [
    {
     "data": {
      "text/plain": [
       "LoanType\n",
       "Auto        22.413793\n",
       "Business    19.117647\n",
       "Mortgage    22.500000\n",
       "Personal    17.241379\n",
       "Name: Yes, dtype: float64"
      ]
     },
     "execution_count": 6,
     "metadata": {},
     "output_type": "execute_result"
    }
   ],
   "source": [
    "\n",
    "default_loan = df.groupby('LoanType')['Defaulted'].value_counts(normalize=True).unstack().fillna(0)\n",
    "default_loan['Yes']*100\n"
   ]
  },
  {
   "cell_type": "code",
   "execution_count": 7,
   "id": "04b936ea",
   "metadata": {},
   "outputs": [
    {
     "data": {
      "image/png": "[encoded data removed]",
      "text/plain": [
       "<Figure size 640x480 with 1 Axes>"
      ]
     },
     "metadata": {},
     "output_type": "display_data"
    }
   ],
   "source": [
    "\n",
    "plt.figure()\n",
    "default_loan['Yes'].plot(kind='bar')\n",
    "plt.title(\"Default Rate by Loan Type\")\n",
    "plt.ylabel(\"% Defaulted\")\n",
    "plt.tight_layout()\n",
    "plt.show()\n"
   ]
  },
  {
   "cell_type": "markdown",
   "id": "cbdff80a",
   "metadata": {},
   "source": [
    "## 5) Customer Segmentation by Income"
   ]
  },
  {
   "cell_type": "code",
   "execution_count": 8,
   "id": "7b305a3b",
   "metadata": {},
   "outputs": [
    {
     "data": {
      "text/plain": [
       "IncomeSegment\n",
       "Low          52541.50\n",
       "Medium       47282.16\n",
       "High         47208.54\n",
       "Very High    50152.96\n",
       "Name: Balance, dtype: float64"
      ]
     },
     "execution_count": 8,
     "metadata": {},
     "output_type": "execute_result"
    }
   ],
   "source": [
    "\n",
    "df['IncomeSegment'] = pd.qcut(df['AnnualIncome'], 4, labels=['Low','Medium','High','Very High'])\n",
    "df.groupby('IncomeSegment', observed=True)['Balance'].mean().round(2)\n",
    "\n"
   ]
  },
  {
   "cell_type": "markdown",
   "id": "c69370ec",
   "metadata": {},
   "source": [
    "## 6) Predict Loan Default (Logistic Regression)"
   ]
  },
  {
   "cell_type": "code",
   "execution_count": 9,
   "id": "97b7d1d7",
   "metadata": {},
   "outputs": [
    {
     "ename": "NameError",
     "evalue": "name 'model' is not defined",
     "output_type": "error",
     "traceback": [
      "\u001b[1;31m---------------------------------------------------------------------------\u001b[0m",
      "\u001b[1;31mNameError\u001b[0m                                 Traceback (most recent call last)",
      "Cell \u001b[1;32mIn[9], line 1\u001b[0m\n\u001b[1;32m----> 1\u001b[0m model\u001b[38;5;241m.\u001b[39mfit(X_train, y_train)\n\u001b[0;32m      2\u001b[0m y_pred \u001b[38;5;241m=\u001b[39m model\u001b[38;5;241m.\u001b[39mpredict(X_test)\n\u001b[0;32m      4\u001b[0m acc \u001b[38;5;241m=\u001b[39m accuracy_score(y_test, y_pred)        \u001b[38;5;66;03m# float\u001b[39;00m\n",
      "\u001b[1;31mNameError\u001b[0m: name 'model' is not defined"
     ]
    }
   ],
   "source": [
    "model.fit(X_train, y_train)\n",
    "y_pred = model.predict(X_test)\n",
    "\n",
    "acc = accuracy_score(y_test, y_pred)        # float\n",
    "print(f\"Accuracy: {acc:.3f}\")               # أو: print(\"Accuracy:\", round(acc, 3))\n",
    "print(classification_report(y_test, y_pred, zero_division=0))\n",
    "\n"
   ]
  },
  {
   "cell_type": "markdown",
   "id": "7e79f01c",
   "metadata": {},
   "source": [
    "\n",
    "## 7) Insights\n",
    "- Avg loan ~SAR 250k; default rate ~20%.\n",
    "- Highest default rates often in **Personal loans**.\n",
    "- Higher income customers maintain larger balances and lower default rates.\n",
    "- Logistic regression predicts defaults with moderate accuracy (~70%).\n",
    "\n",
    "## Next Steps\n",
    "- Try Random Forest or Gradient Boosting for stronger predictive power.\n",
    "- Create customer lifetime value (CLV) segmentation.\n",
    "- Build Power BI dashboard for financial institution executives.\n"
   ]
  }
 ],
 "metadata": {
  "kernelspec": {
   "display_name": "Python 3 (ipykernel)",
   "language": "python",
   "name": "python3"
  },
  "language_info": {
   "codemirror_mode": {
    "name": "ipython",
    "version": 3
   },
   "file_extension": ".py",
   "mimetype": "text/x-python",
   "name": "python",
   "nbconvert_exporter": "python",
   "pygments_lexer": "ipython3",
   "version": "3.12.7"
  }
 },
 "nbformat": 4,
 "nbformat_minor": 5
}
